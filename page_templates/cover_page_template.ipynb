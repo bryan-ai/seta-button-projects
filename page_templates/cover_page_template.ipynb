{
 "cells": [
  {
   "cell_type": "markdown",
   "id": "84843e54",
   "metadata": {},
   "source": [
    "# {{project}}\n",
    "## Team {{team}} Members:\n",
    "{{members}}\n",
    "# Team Score: {{mark}}%"
   ]
  },
  {
   "cell_type": "markdown",
   "id": "29ab7ea6",
   "metadata": {},
   "source": [
    "---"
   ]
  }
 ],
 "metadata": {
  "kernelspec": {
   "display_name": "Python 3.9.12 64-bit",
   "language": "python",
   "name": "python3"
  },
  "language_info": {
   "codemirror_mode": {
    "name": "ipython",
    "version": 3
   },
   "file_extension": ".py",
   "mimetype": "text/x-python",
   "name": "python",
   "nbconvert_exporter": "python",
   "pygments_lexer": "ipython3",
   "version": "3.9.12"
  },
  "vscode": {
   "interpreter": {
    "hash": "b0fa6594d8f4cbf19f97940f81e996739fb7646882a419484c72d19e05852a7e"
   }
  }
 },
 "nbformat": 4,
 "nbformat_minor": 5
}
